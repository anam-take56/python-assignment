{
 "cells": [
  {
   "cell_type": "markdown",
   "metadata": {},
   "source": [
    "1. Add the current date to the text file today.txt as a string."
   ]
  },
  {
   "cell_type": "code",
   "execution_count": 2,
   "metadata": {},
   "outputs": [],
   "source": [
    "import datetime\n",
    "from datetime import date\n",
    "now = date.today()\n",
    "cur_date = now.isoformat()\n",
    "cur_date\n",
    "with open('today.txt','w') as file:\n",
    "    file.write(cur_date)\n"
   ]
  },
  {
   "cell_type": "markdown",
   "metadata": {},
   "source": [
    "2. Read the text file today.txt into the string today_string"
   ]
  },
  {
   "cell_type": "code",
   "execution_count": 3,
   "metadata": {},
   "outputs": [
    {
     "data": {
      "text/plain": [
       "'2021-12-20'"
      ]
     },
     "execution_count": 3,
     "metadata": {},
     "output_type": "execute_result"
    }
   ],
   "source": [
    "with open('today.txt','r') as file:\n",
    "    today_string = file.read()\n",
    "today_string"
   ]
  },
  {
   "cell_type": "markdown",
   "metadata": {},
   "source": [
    "3. Parse the date from today_string."
   ]
  },
  {
   "cell_type": "code",
   "execution_count": 4,
   "metadata": {},
   "outputs": [
    {
     "data": {
      "text/plain": [
       "datetime.datetime(2021, 12, 20, 0, 0)"
      ]
     },
     "execution_count": 4,
     "metadata": {},
     "output_type": "execute_result"
    }
   ],
   "source": [
    "from datetime import datetime\n",
    "format = '%Y-%m-%d'\n",
    "datetime.strptime(today_string,format)"
   ]
  },
  {
   "cell_type": "markdown",
   "metadata": {},
   "source": [
    "4. List the files in your current directory"
   ]
  },
  {
   "cell_type": "code",
   "execution_count": 5,
   "metadata": {},
   "outputs": [
    {
     "data": {
      "text/plain": [
       "['()',\n",
       " '.android',\n",
       " '.bash_history',\n",
       " '.BigNox',\n",
       " '.conda',\n",
       " '.cufflinks',\n",
       " '.gitconfig',\n",
       " '.idea',\n",
       " '.idlerc',\n",
       " '.ipynb_checkpoints',\n",
       " '.ipython',\n",
       " '.jupyter',\n",
       " '.matplotlib',\n",
       " '.python_history',\n",
       " '.viminfo',\n",
       " '.VirtualBox',\n",
       " '.vscode',\n",
       " '.wdm',\n",
       " '0.jpg',\n",
       " '13th jan python string and list manupulation.ipynb',\n",
       " '18.3.Plotly.7z',\n",
       " '19.2.MySQL (1).7z',\n",
       " '19.2.MySQL (1).ipynb',\n",
       " '19.2.MySQL.7z',\n",
       " '3D Objects',\n",
       " '7th march live class notebook for loop while and range function  (1).ipynb',\n",
       " 'a.py',\n",
       " 'aa',\n",
       " 'aaa',\n",
       " 'Admission_Prediction.csv',\n",
       " 'ai4i2020.csv',\n",
       " 'anaconda3',\n",
       " 'app.py',\n",
       " 'app1.py',\n",
       " 'AppData',\n",
       " 'Application Data',\n",
       " 'application_data.csv',\n",
       " 'assignment 1.ipynb',\n",
       " 'assignment 10.ipynb',\n",
       " 'assignment 11.ipynb',\n",
       " 'assignment 12.ipynb',\n",
       " 'assignment 13.ipynb',\n",
       " 'assignment 14.ipynb',\n",
       " 'assignment 15.ipynb',\n",
       " 'assignment 17.ipynb',\n",
       " 'assignment 18.ipynb',\n",
       " 'assignment 19.ipynb',\n",
       " 'assignment 20.ipynb',\n",
       " 'assignment 9.ipynb',\n",
       " 'assignments 15.ipynb',\n",
       " 'books.csv',\n",
       " 'books.db',\n",
       " 'bratislava',\n",
       " 'calculater.ipynb',\n",
       " 'casandra-20210908T140417Z-001.zip',\n",
       " 'cassandra basic queries.ipynb',\n",
       " 'Cassandra DB operation.ipynb',\n",
       " 'cat11',\n",
       " 'category_name.pickle',\n",
       " 'codemirror.css',\n",
       " 'Contacts',\n",
       " 'Cookies',\n",
       " 'customer_city.pickle',\n",
       " 'customer_state.pickle',\n",
       " 'data.csv',\n",
       " 'datas.jpg',\n",
       " 'Documents',\n",
       " 'Downloads',\n",
       " 'Favorites',\n",
       " 'finalized_model.pickle',\n",
       " 'final_df.csv',\n",
       " 'first_figure.html',\n",
       " 'FitBit EDA.ipynb',\n",
       " 'flipkart project.ipynb',\n",
       " 'FlipkratScrapping.py',\n",
       " 'hackerrank.ipynb',\n",
       " 'Images',\n",
       " 'IMDb+Movie+Assignment_stub.ipynb',\n",
       " 'imdb_assignment (4).zip',\n",
       " 'imdb_assignment.zip',\n",
       " 'ineuron project.ipynb',\n",
       " 'ineuron_project-',\n",
       " 'inittk.ini',\n",
       " 'inst.ini',\n",
       " 'Intel',\n",
       " 'IntelGraphicsProfiles',\n",
       " 'java_error_in_pycharm64_13988.log',\n",
       " 'kkkk',\n",
       " 'Linear regression part complete.ipynb',\n",
       " 'Links',\n",
       " 'lo',\n",
       " 'Local Settings',\n",
       " 'logger_class.py',\n",
       " 'logging',\n",
       " 'MicrosoftEdgeBackups',\n",
       " 'mkdir()',\n",
       " 'MLForCloudDeployment_Heroku',\n",
       " 'mongoDBOperations.py',\n",
       " 'Music',\n",
       " 'My Documents',\n",
       " 'myda.csv',\n",
       " 'mydaa.csv',\n",
       " 'mydat.csv',\n",
       " 'mydata.csv',\n",
       " 'NetHood',\n",
       " 'Nox_share',\n",
       " 'NPProt.bkp',\n",
       " 'NPProt.exe',\n",
       " 'NTUSER.DAT',\n",
       " 'ntuser.dat.LOG1',\n",
       " 'ntuser.dat.LOG2',\n",
       " 'NTUSER.DAT{23e7d56e-8f9a-11eb-b7b7-c0f80a7e4e29}.TM.blf',\n",
       " 'NTUSER.DAT{23e7d56e-8f9a-11eb-b7b7-c0f80a7e4e29}.TMContainer00000000000000000001.regtrans-ms',\n",
       " 'NTUSER.DAT{23e7d56e-8f9a-11eb-b7b7-c0f80a7e4e29}.TMContainer00000000000000000002.regtrans-ms',\n",
       " 'ntuser.ini',\n",
       " 'numpy.ipynb',\n",
       " 'nuuid.ini',\n",
       " 'olist_customers_dataset.csv',\n",
       " 'olist_geolocation_dataset.csv',\n",
       " 'olist_orders_dataset.csv',\n",
       " 'olist_order_items_dataset.csv',\n",
       " 'olist_order_payments_dataset.csv',\n",
       " 'olist_order_reviews_dataset.csv',\n",
       " 'olist_products_dataset.csv',\n",
       " 'olist_sellers_dataset.csv',\n",
       " 'OneDrive',\n",
       " 'order_status.pickle',\n",
       " 'os',\n",
       " 'pandas data manupulations.ipynb',\n",
       " 'pandas plotly 2.ipynb',\n",
       " 'pandas plotly.ipynb',\n",
       " 'payment_type.pickle',\n",
       " 'plotly 1.ipynb',\n",
       " 'Postman',\n",
       " 'Postman Agent',\n",
       " 'PrintHood',\n",
       " 'product_category_name_translation.csv',\n",
       " 'programing.ipynb',\n",
       " 'PycharmProject',\n",
       " 'PycharmProjects',\n",
       " 'python-assignment',\n",
       " 'Recent',\n",
       " 'RepositoryForObject.py',\n",
       " 'rose',\n",
       " 's.filename',\n",
       " 's.file_name',\n",
       " 'Saved Games',\n",
       " 'seaborn-data',\n",
       " 'Searches',\n",
       " 'SendTo',\n",
       " 'shut',\n",
       " 'standard_scaler.pickle',\n",
       " 'Start Menu',\n",
       " 'statestic.ipynb',\n",
       " 'statistics.ipynb',\n",
       " 'take',\n",
       " 'Templates',\n",
       " 'test',\n",
       " 'test.csv',\n",
       " 'test.ipynb',\n",
       " 'test.txt',\n",
       " 'tex1.py',\n",
       " 'text',\n",
       " 'text1',\n",
       " 'today.txt',\n",
       " 'TUPLE SET AND DICT.ipynb',\n",
       " 'txt 1',\n",
       " 'untitled',\n",
       " 'Untitled Folder',\n",
       " 'Untitled Folder 1',\n",
       " 'Untitled Folder 2',\n",
       " 'Untitled Folder 3',\n",
       " 'Untitled Folder 4',\n",
       " 'Untitled.ipynb',\n",
       " 'Untitled1.ipynb',\n",
       " 'Untitled10.ipynb',\n",
       " 'Untitled11.ipynb',\n",
       " 'Untitled12.ipynb',\n",
       " 'Untitled13.ipynb',\n",
       " 'Untitled14.ipynb',\n",
       " 'Untitled15.ipynb',\n",
       " 'Untitled16.ipynb',\n",
       " 'Untitled17.ipynb',\n",
       " 'Untitled18.ipynb',\n",
       " 'Untitled19.ipynb',\n",
       " 'Untitled2.ipynb',\n",
       " 'Untitled20.ipynb',\n",
       " 'Untitled21.ipynb',\n",
       " 'Untitled22.ipynb',\n",
       " 'Untitled23.ipynb',\n",
       " 'Untitled24.ipynb',\n",
       " 'Untitled25.ipynb',\n",
       " 'Untitled26.ipynb',\n",
       " 'Untitled27.ipynb',\n",
       " 'Untitled28.ipynb',\n",
       " 'Untitled29.ipynb',\n",
       " 'Untitled3.ipynb',\n",
       " 'Untitled30.ipynb',\n",
       " 'Untitled31.ipynb',\n",
       " 'Untitled32.ipynb',\n",
       " 'Untitled33.ipynb',\n",
       " 'Untitled34.ipynb',\n",
       " 'Untitled35.ipynb',\n",
       " 'Untitled36.ipynb',\n",
       " 'Untitled37.ipynb',\n",
       " 'Untitled38.ipynb',\n",
       " 'Untitled39.ipynb',\n",
       " 'Untitled4.ipynb',\n",
       " 'Untitled40.ipynb',\n",
       " 'Untitled41.ipynb',\n",
       " 'Untitled42.ipynb',\n",
       " 'Untitled43.ipynb',\n",
       " 'Untitled44.ipynb',\n",
       " 'Untitled45.ipynb',\n",
       " 'Untitled46.ipynb',\n",
       " 'Untitled47.ipynb',\n",
       " 'Untitled48.ipynb',\n",
       " 'Untitled49.ipynb',\n",
       " 'Untitled5.ipynb',\n",
       " 'Untitled50.ipynb',\n",
       " 'Untitled51.ipynb',\n",
       " 'Untitled52.ipynb',\n",
       " 'Untitled53.ipynb',\n",
       " 'Untitled54.ipynb',\n",
       " 'Untitled55.ipynb',\n",
       " 'Untitled56.ipynb',\n",
       " 'Untitled57.ipynb',\n",
       " 'Untitled58.ipynb',\n",
       " 'Untitled6.ipynb',\n",
       " 'Untitled7.ipynb',\n",
       " 'Untitled8.ipynb',\n",
       " 'Untitled9.ipynb',\n",
       " 'useruid.ini',\n",
       " 'Videos',\n",
       " 'vmlogs',\n",
       " 'zomato.csv',\n",
       " '_netrc',\n",
       " '__pycache__']"
      ]
     },
     "execution_count": 5,
     "metadata": {},
     "output_type": "execute_result"
    }
   ],
   "source": [
    "import os\n",
    "os.listdir('.')"
   ]
  },
  {
   "cell_type": "markdown",
   "metadata": {},
   "source": [
    "6. Use multiprocessing to create three separate processes. Make each one wait a random number of\n",
    "seconds between one and five, print the current time, and then exit"
   ]
  },
  {
   "cell_type": "code",
   "execution_count": 6,
   "metadata": {},
   "outputs": [],
   "source": [
    "import multiprocessing\n",
    "\n",
    "def printsec(seconds):\n",
    "    from datetime import datetime\n",
    "    from time import sleep\n",
    "    sleep(seconds)\n",
    "    print('wait', seconds, 'seconds, time is', datetime.utcnow())\n",
    "    \n",
    "if __name__ == '__main__':\n",
    "    import random    \n",
    "    for n in range(3):\n",
    "        seconds = random.random()\n",
    "        proc = multiprocessing.Process(target=printsec, args=(seconds,))\n",
    "        proc.start()"
   ]
  },
  {
   "cell_type": "markdown",
   "metadata": {},
   "source": [
    "7. Create a date object of your day of birth."
   ]
  },
  {
   "cell_type": "code",
   "execution_count": 8,
   "metadata": {},
   "outputs": [
    {
     "data": {
      "text/plain": [
       "datetime.date(1998, 9, 9)"
      ]
     },
     "execution_count": 8,
     "metadata": {},
     "output_type": "execute_result"
    }
   ],
   "source": [
    "my_dob = date(1998,9,9)\n",
    "my_dob"
   ]
  },
  {
   "cell_type": "markdown",
   "metadata": {},
   "source": [
    "8. What day of the week was your day of birth?"
   ]
  },
  {
   "cell_type": "code",
   "execution_count": 9,
   "metadata": {},
   "outputs": [
    {
     "data": {
      "text/plain": [
       "2"
      ]
     },
     "execution_count": 9,
     "metadata": {},
     "output_type": "execute_result"
    }
   ],
   "source": [
    "my_dob.weekday()"
   ]
  },
  {
   "cell_type": "markdown",
   "metadata": {},
   "source": [
    "9. When will you be (or when were you) 10,000 days old?"
   ]
  },
  {
   "cell_type": "code",
   "execution_count": 10,
   "metadata": {},
   "outputs": [
    {
     "data": {
      "text/plain": [
       "datetime.date(2026, 1, 25)"
      ]
     },
     "execution_count": 10,
     "metadata": {},
     "output_type": "execute_result"
    }
   ],
   "source": [
    "from datetime import timedelta\n",
    "day10000 = my_dob + timedelta(days=10000)\n",
    "day10000"
   ]
  },
  {
   "cell_type": "code",
   "execution_count": null,
   "metadata": {},
   "outputs": [],
   "source": []
  }
 ],
 "metadata": {
  "kernelspec": {
   "display_name": "Python 3",
   "language": "python",
   "name": "python3"
  },
  "language_info": {
   "codemirror_mode": {
    "name": "ipython",
    "version": 3
   },
   "file_extension": ".py",
   "mimetype": "text/x-python",
   "name": "python",
   "nbconvert_exporter": "python",
   "pygments_lexer": "ipython3",
   "version": "3.8.5"
  }
 },
 "nbformat": 4,
 "nbformat_minor": 4
}
